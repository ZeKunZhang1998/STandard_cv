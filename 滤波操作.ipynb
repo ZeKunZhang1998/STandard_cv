{
 "cells": [
  {
   "cell_type": "code",
   "execution_count": 18,
   "metadata": {},
   "outputs": [],
   "source": [
    "import numpy as np\n",
    "import cv2"
   ]
  },
  {
   "cell_type": "code",
   "execution_count": 19,
   "metadata": {},
   "outputs": [],
   "source": [
    "img=cv2.imread('images/Test_10.jpg')\n",
    "img=cv2.resize(img,(600,600))\n",
    "cv2.imshow('img',img)\n",
    "cv2.waitKey(0)\n",
    "\n",
    "cv2.destroyAllWindows()"
   ]
  },
  {
   "cell_type": "markdown",
   "metadata": {},
   "source": [
    "### 均值滤波"
   ]
  },
  {
   "cell_type": "code",
   "execution_count": 20,
   "metadata": {},
   "outputs": [],
   "source": [
    "dst=cv2.blur(img,(3,3))#(3,3)(5,5)(1,5)(5,1)\n",
    "cv2.imshow('img',dst)\n",
    "cv2.waitKey(0)\n",
    "\n",
    "cv2.destroyAllWindows()"
   ]
  },
  {
   "cell_type": "markdown",
   "metadata": {},
   "source": [
    "### 高斯滤波"
   ]
  },
  {
   "cell_type": "code",
   "execution_count": 21,
   "metadata": {},
   "outputs": [],
   "source": [
    "ass=cv2.GaussianBlur(img,(3,3),1)\n",
    "cv2.imshow('ass',ass)\n",
    "cv2.waitKey(0)\n",
    "cv2.destroyAllWindows()"
   ]
  },
  {
   "cell_type": "markdown",
   "metadata": {},
   "source": [
    "### 中值滤波"
   ]
  },
  {
   "cell_type": "code",
   "execution_count": 24,
   "metadata": {},
   "outputs": [],
   "source": [
    "ass=cv2.medianBlur(img,3)\n",
    "cv2.imshow('ass',ass)\n",
    "cv2.waitKey(0)\n",
    "cv2.destroyAllWindows()"
   ]
  },
  {
   "cell_type": "markdown",
   "metadata": {},
   "source": [
    "### 处理椒盐噪声"
   ]
  },
  {
   "cell_type": "code",
   "execution_count": 34,
   "metadata": {},
   "outputs": [],
   "source": [
    "def salt(img,n):\n",
    "    for k in range(n):\n",
    "        i = int(np.random.random()*img.shape[1])\n",
    "        j = int(np.random.random()*img.shape[0])\n",
    "        if img.ndim == 2:\n",
    "            img[j,i] = 255\n",
    "        elif img.ndim == 3:\n",
    "            img[j,i,0] = 255\n",
    "            img[j,i,1] = 255\n",
    "            img[j,i,2] = 255\n",
    "            #print('pop')\n",
    "    return img\n",
    "img = salt(img,500)\n",
    "media = cv2.GaussianBlur(img,(5,5),1)\n",
    "\n",
    "cv2.imshow('noise',img)\n",
    "cv2.imshow('ok',media)\n",
    "cv2.waitKey(0)\n",
    "cv2.destroyAllWindows()"
   ]
  },
  {
   "cell_type": "code",
   "execution_count": null,
   "metadata": {},
   "outputs": [],
   "source": []
  }
 ],
 "metadata": {
  "kernelspec": {
   "display_name": "Python 3",
   "language": "python",
   "name": "python3"
  },
  "language_info": {
   "codemirror_mode": {
    "name": "ipython",
    "version": 3
   },
   "file_extension": ".py",
   "mimetype": "text/x-python",
   "name": "python",
   "nbconvert_exporter": "python",
   "pygments_lexer": "ipython3",
   "version": "3.7.2"
  }
 },
 "nbformat": 4,
 "nbformat_minor": 2
}
