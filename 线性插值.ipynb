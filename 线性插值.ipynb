{
 "cells": [
  {
   "cell_type": "code",
   "execution_count": 29,
   "metadata": {},
   "outputs": [],
   "source": [
    "import cv2 as cv"
   ]
  },
  {
   "cell_type": "code",
   "execution_count": 30,
   "metadata": {},
   "outputs": [],
   "source": [
    "img=cv.imread('images/Test_0.jpg')#读入图像"
   ]
  },
  {
   "cell_type": "code",
   "execution_count": 31,
   "metadata": {},
   "outputs": [],
   "source": [
    "img=cv.resize(img,(224,224))\n",
    "cv.imshow('img',img)\n",
    "\n",
    "cv.waitKey(0)\n",
    "cv.destroyAllWindows()"
   ]
  },
  {
   "cell_type": "code",
   "execution_count": 17,
   "metadata": {},
   "outputs": [
    {
     "data": {
      "text/plain": [
       "((224, 224, 3), array([[[ 52, 147,  97],\n",
       "         [ 53, 149,  95],\n",
       "         [ 54, 150,  97],\n",
       "         ...,\n",
       "         [ 18,  44,  28],\n",
       "         [ 19,  45,  27],\n",
       "         [ 20,  46,  28]],\n",
       " \n",
       "        [[ 53, 148,  98],\n",
       "         [ 55, 151,  97],\n",
       "         [ 54, 150,  96],\n",
       "         ...,\n",
       "         [ 17,  43,  27],\n",
       "         [ 20,  46,  28],\n",
       "         [ 20,  46,  28]],\n",
       " \n",
       "        [[ 53, 148,  97],\n",
       "         [ 53, 151,  96],\n",
       "         [ 50, 147,  94],\n",
       "         ...,\n",
       "         [ 17,  43,  27],\n",
       "         [ 20,  46,  28],\n",
       "         [ 20,  46,  28]],\n",
       " \n",
       "        ...,\n",
       " \n",
       "        [[ 21,  53,  28],\n",
       "         [ 20,  52,  28],\n",
       "         [ 25,  53,  33],\n",
       "         ...,\n",
       "         [ 89, 159, 123],\n",
       "         [ 85, 155, 114],\n",
       "         [ 84, 154, 113]],\n",
       " \n",
       "        [[ 20,  52,  27],\n",
       "         [ 18,  50,  27],\n",
       "         [ 30,  58,  38],\n",
       "         ...,\n",
       "         [ 82, 157, 121],\n",
       "         [ 80, 155, 113],\n",
       "         [ 81, 156, 114]],\n",
       " \n",
       "        [[ 32,  76,  49],\n",
       "         [ 18,  55,  34],\n",
       "         [ 19,  51,  27],\n",
       "         ...,\n",
       "         [ 76, 156, 113],\n",
       "         [ 71, 154, 108],\n",
       "         [ 83, 160, 123]]], dtype=uint8))"
      ]
     },
     "execution_count": 17,
     "metadata": {},
     "output_type": "execute_result"
    }
   ],
   "source": [
    "h,w=img.shape[:2]\n",
    "img.shape,img\n",
    "#求出图像长宽img[长，宽，通道]"
   ]
  },
  {
   "cell_type": "code",
   "execution_count": 5,
   "metadata": {},
   "outputs": [],
   "source": [
    "dst=cv.resize(img,(w*2,h*2),fx=0.8,fy=0.8,interpolation=cv.INTER_NEAREST)#最近邻插值法 cv.INTER_NEAREST\n",
    "cv.imshow('img',dst)\n",
    "\n",
    "cv.waitKey(0)\n",
    "cv.destroyAllWindows()"
   ]
  },
  {
   "cell_type": "code",
   "execution_count": 6,
   "metadata": {},
   "outputs": [],
   "source": [
    "dst=cv.resize(img,(w*2,h*2),fx=0.75,fy=0.75,interpolation=cv.INTER_LINEAR)#线性插值法 cv.INTER_NEAREST\n",
    "cv.imshow('img',dst)\n",
    "\n",
    "cv.waitKey(0)\n",
    "cv.destroyAllWindows()"
   ]
  },
  {
   "cell_type": "code",
   "execution_count": 7,
   "metadata": {},
   "outputs": [],
   "source": [
    "dst=cv.resize(img,(w*2,h*2),interpolation=cv.INTER_CUBIC)\n",
    "cv.imshow('img',dst)\n",
    "\n",
    "cv.waitKey(0)\n",
    "cv.destroyAllWindows()"
   ]
  },
  {
   "cell_type": "code",
   "execution_count": 32,
   "metadata": {},
   "outputs": [],
   "source": [
    "import numpy as np\n",
    "def nearest_inter(img,scale):\n",
    "    dst_cols=(int)(img.shape[0]*scale)\n",
    "    dst_rows=(int)(img.shape[1]*scale)\n",
    "#    print(dst_cols,dst_rows)\n",
    "    img_dst=np.zeros([dst_cols,dst_rows,3],dtype=np.uint8)\n",
    "    for i in range(dst_cols-1):\n",
    "        for j in range(dst_rows-1):\n",
    "            src_x=(i+0.5)/scale-0.5\n",
    "            src_y=(j+0.5)/scale-0.5\n",
    "            int_x = int(src_x)\n",
    "            int_y = int(src_y)\n",
    "            \n",
    "            img_dst[i][j]=img[int_x][int_y]\n",
    "    #print(img_dst,img_dst.shape)\n",
    "    return img_dst,np.array(img_dst)\n",
    "    #return np.array(img_dst)"
   ]
  },
  {
   "cell_type": "code",
   "execution_count": 33,
   "metadata": {},
   "outputs": [
    {
     "data": {
      "text/plain": [
       "(448, 448, 3)"
      ]
     },
     "execution_count": 33,
     "metadata": {},
     "output_type": "execute_result"
    }
   ],
   "source": [
    "dst,_=nearest_inter(img,2)\n",
    "dst.shape"
   ]
  },
  {
   "cell_type": "code",
   "execution_count": 34,
   "metadata": {},
   "outputs": [],
   "source": [
    "#dst=nearest_inter(img,2)\n",
    "cv.imshow('img',dst)\n",
    "\n",
    "cv.waitKey(0)\n",
    "cv.destroyAllWindows()"
   ]
  },
  {
   "cell_type": "code",
   "execution_count": null,
   "metadata": {},
   "outputs": [],
   "source": []
  }
 ],
 "metadata": {
  "kernelspec": {
   "display_name": "Python 3",
   "language": "python",
   "name": "python3"
  },
  "language_info": {
   "codemirror_mode": {
    "name": "ipython",
    "version": 3
   },
   "file_extension": ".py",
   "mimetype": "text/x-python",
   "name": "python",
   "nbconvert_exporter": "python",
   "pygments_lexer": "ipython3",
   "version": "3.7.2"
  }
 },
 "nbformat": 4,
 "nbformat_minor": 2
}
